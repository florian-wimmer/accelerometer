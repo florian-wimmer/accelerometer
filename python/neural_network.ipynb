{
 "cells": [
  {
   "cell_type": "markdown",
   "metadata": {},
   "source": [
    "# Neural Network"
   ]
  },
  {
   "cell_type": "code",
   "execution_count": null,
   "metadata": {},
   "outputs": [],
   "source": [
    "import os\n",
    "import pandas as pd\n",
    "import numpy as np\n",
    "import plotly.graph_objects as go\n",
    "from scipy.signal import iirfilter, filtfilt\n",
    "from sklearn.preprocessing import StandardScaler\n",
    "import dill\n",
    "import torch\n",
    "import torch.nn as nn\n",
    "import torch.optim as optim\n",
    "from tqdm import tqdm\n",
    "\n",
    "\"\"\"\n",
    "Date: 2024-06-20 15:47:56,,,,,,\n",
    "Calibration: XL_ODR: 6667Hz, XL_FS: 16g, GY_ODR: 6667Hz, GY_FS: 2000dps,,,\n",
    "Time(s),Acceleration X (g),Acceleration Y (g),Acceleration Z (g),Angular Momentum X (dps),Angular Momentum Y (dps),Angular Momentum Z (dps)\n",
    "0.000083,0.693359,-0.720215,0.14209,-3.540039,0.366211,-3.051758\n",
    "0.00098,0.70752,-0.755371,0.086914,1.953125,0.732422,-1.159668\n",
    "\"\"\"\n",
    "\n",
    "# Check if GPU is available and use it if possible\n",
    "device = torch.device(\"cuda\" if torch.cuda.is_available() else \"cpu\")\n",
    "print(\"Using device:\", device)\n",
    "\n",
    "#dill.load_session('nn_env.db')"
   ]
  },
  {
   "cell_type": "code",
   "execution_count": null,
   "metadata": {},
   "outputs": [],
   "source": [
    "# Load training data\n",
    "train_data = pd.read_csv(r\"../measurement/processed_data/train_short.csv\", header=2)\n",
    "X_train = train_data[[\"Time(s)\", \"Acceleration X (g)\", \"Acceleration Y (g)\", \"Acceleration Z (g)\", \"Angular Momentum X (dps)\", \"Angular Momentum Y (dps)\", \"Angular Momentum Z (dps)\"]]\n",
    "y_train = train_data[\"Stand detected\"]\n",
    "\n",
    "sampling_frequency = 1 / (train_data[\"Time(s)\"].diff().mean())\n",
    "cutoff_frequency = 100\n",
    "\n",
    "# Apply IIR filter to training data (excluding time series)\n",
    "b, a = iirfilter(4, Wn=cutoff_frequency, fs=sampling_frequency, btype=\"low\", ftype=\"butter\")\n",
    "X_train_filtered = X_train.copy()\n",
    "X_train_filtered.iloc[:, 1:] = filtfilt(b, a, X_train.iloc[:, 1:], axis=0)\n",
    "\n",
    "# Standardize the data\n",
    "scaler = StandardScaler()\n",
    "X_train_scaled = scaler.fit_transform(X_train_filtered.iloc[:, 1:])\n",
    "\n",
    "# Increase the weight of specific features\n",
    "feature_weights = np.array([1, 1, 1, 1, 1, 1])  # Higher weights for Acc X, Acc Y, and Angular Z\n",
    "X_train_weighted = X_train_scaled * feature_weights\n",
    "\n",
    "# Convert data to float32\n",
    "X_train_weighted = X_train_weighted.astype(np.float32)\n",
    "\n",
    "# Convert data to PyTorch tensors and move to device\n",
    "X_train_tensor = torch.tensor(X_train_weighted).to(device)\n",
    "y_train_tensor = torch.tensor(y_train.values, dtype=torch.float32).to(device)"
   ]
  },
  {
   "cell_type": "code",
   "execution_count": null,
   "metadata": {},
   "outputs": [],
   "source": [
    "# Define neural network model\n",
    "class NeuralNetwork(nn.Module):\n",
    "    def __init__(self):\n",
    "        super(NeuralNetwork, self).__init__()\n",
    "        self.fc1 = nn.Linear(X_train_weighted.shape[1], 64)\n",
    "        self.fc2 = nn.Linear(64, 32)\n",
    "        self.fc3 = nn.Linear(32, 1)\n",
    "        self.relu = nn.ReLU()\n",
    "        self.sigmoid = nn.Sigmoid()\n",
    "\n",
    "    def forward(self, x):\n",
    "        x = self.relu(self.fc1(x))\n",
    "        x = self.relu(self.fc2(x))\n",
    "        x = self.sigmoid(self.fc3(x))\n",
    "        return x\n",
    "\n",
    "\n",
    "model = NeuralNetwork().to(device)\n",
    "# Binary Cross Entropy Loss\n",
    "criterion = nn.BCELoss()\n",
    "# Adam Optimizer\n",
    "optimizer = optim.Adam(model.parameters(), lr=0.001)\n",
    "\n",
    "# Train the model\n",
    "num_epochs = 3\n",
    "batch_size = 32\n",
    "dataset = torch.utils.data.TensorDataset(X_train_tensor, y_train_tensor)\n",
    "dataloader = torch.utils.data.DataLoader(dataset, batch_size=batch_size, shuffle=True)\n",
    "\n",
    "for epoch in range(num_epochs):\n",
    "    with tqdm(dataloader, unit=\"batch\") as tepoch:\n",
    "        for batch_X, batch_y in tepoch:\n",
    "            tepoch.set_description(f\"Epoch {epoch+1}\")\n",
    "            batch_X, batch_y = batch_X.to(device), batch_y.to(device)\n",
    "            optimizer.zero_grad()\n",
    "            outputs = model(batch_X).squeeze()\n",
    "            loss = criterion(outputs, batch_y)\n",
    "            loss.backward()\n",
    "            optimizer.step()\n",
    "            tepoch.set_postfix(loss=loss.item())"
   ]
  },
  {
   "cell_type": "code",
   "execution_count": null,
   "metadata": {},
   "outputs": [],
   "source": [
    "# Load test data\n",
    "test_data = pd.read_csv(r\"../measurement/processed_data/test.csv\", header=2)\n",
    "X_test = test_data[[\"Time(s)\", \"Acceleration X (g)\", \"Acceleration Y (g)\", \"Acceleration Z (g)\", \"Angular Momentum X (dps)\", \"Angular Momentum Y (dps)\", \"Angular Momentum Z (dps)\"]]\n",
    "\n",
    "# Apply IIR filter to test data (excluding time series)\n",
    "X_test_filtered = X_test.copy()\n",
    "X_test_filtered.iloc[:, 1:] = filtfilt(b, a, X_test.iloc[:, 1:], axis=0)\n",
    "\n",
    "# Standardize the test data\n",
    "X_test_scaled = scaler.transform(X_test_filtered.iloc[:, 1:])\n",
    "\n",
    "# Convert test data to PyTorch tensor\n",
    "X_test_tensor = torch.tensor(X_test_scaled, dtype=torch.float32).to(device)\n",
    "\n",
    "# Make predictions with the neural network model\n",
    "model.eval()\n",
    "with torch.no_grad():\n",
    "    predictions = (model(X_test_tensor).squeeze() > 0.5).int().cpu().numpy()\n",
    "\n",
    "if False:\n",
    "    predictions = pd.Series(predictions).rolling(window=25, min_periods=1).mean().round().astype(int)\n",
    "test_data[\"predicted_heel_button\"] = predictions\n"
   ]
  },
  {
   "cell_type": "code",
   "execution_count": null,
   "metadata": {},
   "outputs": [],
   "source": [
    "# Plot Angular Momentum Z axis (filtered and scaled)\n",
    "fig = go.Figure()\n",
    "# [:, 5]\n",
    "fig.add_trace(go.Scatter(x=test_data[\"Time(s)\"], y=X_test_scaled[:, 0], mode=\"lines\", name=\"AC X (Filtered & Scaled)\"))\n",
    "fig.add_trace(go.Scatter(x=test_data[\"Time(s)\"], y=X_test_scaled[:, 1], mode=\"lines\", name=\"AC Y (Filtered & Scaled)\"))\n",
    "fig.add_trace(go.Scatter(x=test_data[\"Time(s)\"], y=X_test_scaled[:, 2], mode=\"lines\", name=\"AC Z (Filtered & Scaled)\"))\n",
    "fig.add_trace(go.Scatter(x=test_data[\"Time(s)\"], y=X_test_scaled[:, 3], mode=\"lines\", name=\"AM X (Filtered & Scaled)\"))\n",
    "fig.add_trace(go.Scatter(x=test_data[\"Time(s)\"], y=X_test_scaled[:, 4], mode=\"lines\", name=\"AM Y (Filtered & Scaled)\"))\n",
    "fig.add_trace(go.Scatter(x=test_data[\"Time(s)\"], y=X_test_scaled[:, 5], mode=\"lines\", name=\"AM Z (Filtered & Scaled)\"))\n",
    "fig.add_trace(go.Scatter(x=test_data[\"Time(s)\"], y=test_data[\"Heel Button\"], mode=\"lines\", name=\"Heel Button\"))\n",
    "fig.add_trace(go.Scatter(x=test_data[\"Time(s)\"], y=test_data[\"Stand detected\"], mode=\"lines\", name=\"Analytical\"))\n",
    "fig.add_trace(go.Scatter(x=test_data[\"Time(s)\"], y=test_data[\"predicted_heel_button\"], mode=\"lines\", name=\"Predicted Heel Button\"))\n",
    "fig.show()"
   ]
  },
  {
   "cell_type": "code",
   "execution_count": null,
   "metadata": {},
   "outputs": [],
   "source": [
    "dill.dump_session('nn_env.db')"
   ]
  },
  {
   "cell_type": "code",
   "execution_count": null,
   "metadata": {},
   "outputs": [],
   "source": [
    "dill.dump_session('nn_env.db')"
   ]
  }
 ],
 "metadata": {
  "kernelspec": {
   "display_name": "venv",
   "language": "python",
   "name": "python3"
  },
  "language_info": {
   "codemirror_mode": {
    "name": "ipython",
    "version": 3
   },
   "file_extension": ".py",
   "mimetype": "text/x-python",
   "name": "python",
   "nbconvert_exporter": "python",
   "pygments_lexer": "ipython3",
   "version": "3.12.3"
  }
 },
 "nbformat": 4,
 "nbformat_minor": 2
}
