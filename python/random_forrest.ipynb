{
 "cells": [
  {
   "cell_type": "markdown",
   "metadata": {},
   "source": [
    "# Random Forrest"
   ]
  },
  {
   "cell_type": "code",
   "execution_count": null,
   "metadata": {},
   "outputs": [],
   "source": [
    "import pandas as pd\n",
    "import numpy as np\n",
    "import plotly.graph_objects as go\n",
    "from scipy.signal import iirfilter, filtfilt\n",
    "#from data_analyzer import DataAnalyzer\n",
    "from sklearn.preprocessing import StandardScaler\n",
    "from sklearn.ensemble import RandomForestClassifier\n",
    "import dill\n",
    "\n",
    "\"\"\"\n",
    "Date: 2024-06-20 15:47:56,,,,,,\n",
    "Calibration: XL_ODR: 6667Hz, XL_FS: 16g, GY_ODR: 6667Hz, GY_FS: 2000dps,,,\n",
    "Time(s),Acceleration X (g),Acceleration Y (g),Acceleration Z (g),Angular Momentum X (dps),Angular Momentum Y (dps),Angular Momentum Z (dps)\n",
    "0.000083,0.693359,-0.720215,0.14209,-3.540039,0.366211,-3.051758\n",
    "0.00098,0.70752,-0.755371,0.086914,1.953125,0.732422,-1.159668\n",
    "\"\"\"\n",
    "\n",
    "#dill.load_session('rf_env.db')"
   ]
  },
  {
   "cell_type": "code",
   "execution_count": null,
   "metadata": {},
   "outputs": [],
   "source": [
    "# Load training data\n",
    "train_data = pd.read_csv(r\"../measurement/processed_data/train_long.csv\", header=2)\n",
    "X_train = train_data[[\"Time(s)\", \"Acceleration X (g)\", \"Acceleration Y (g)\", \"Acceleration Z (g)\", \"Angular Momentum X (dps)\", \"Angular Momentum Y (dps)\", \"Angular Momentum Z (dps)\"]]\n",
    "y_train = train_data[\"Stand detected\"]\n",
    "\n",
    "sampling_frequency = 1 / (train_data[\"Time(s)\"].diff().mean())\n",
    "cutoff_frequency = 100\n",
    "\n",
    "# Apply IIR filter to training data (excluding time series)\n",
    "b, a = iirfilter(4, Wn=cutoff_frequency, fs=sampling_frequency, btype=\"low\", ftype=\"butter\")\n",
    "X_train_filtered = X_train.copy()\n",
    "X_train_filtered.iloc[:, 1:] = filtfilt(b, a, X_train.iloc[:, 1:], axis=0)\n",
    "\n",
    "# Standardize the data\n",
    "scaler = StandardScaler()\n",
    "X_train_scaled = scaler.fit_transform(X_train_filtered.iloc[:, 1:])\n",
    "\n",
    "# Increase the weight of specific features\n",
    "feature_weights = np.array([1, 1, 1, 1, 1, 1])  # Higher weights for Acc X, Acc Y, and Angular Z\n",
    "X_train_weighted = X_train_scaled * feature_weights\n",
    "\n",
    "# Convert data to float32\n",
    "X_train_weighted = X_train_weighted.astype(np.float32)\n",
    "\n",
    "# Build RandomForest model\n",
    "model = RandomForestClassifier(n_estimators=11, random_state=24, n_streams=1)\n",
    "model.fit(X_train_weighted, y_train)"
   ]
  },
  {
   "cell_type": "code",
   "execution_count": null,
   "metadata": {},
   "outputs": [],
   "source": [
    "# Load test data\n",
    "test_data = pd.read_csv(r\"../measurement/processed_data/test.csv\", header=2)\n",
    "#test_data = pd.read_csv(r\"../measurement/processed_data/moving_all_around/random.csv\", header=2)\n",
    "X_test = test_data[[\"Time(s)\", \"Acceleration X (g)\", \"Acceleration Y (g)\", \"Acceleration Z (g)\", \"Angular Momentum X (dps)\", \"Angular Momentum Y (dps)\", \"Angular Momentum Z (dps)\"]]\n",
    "\n",
    "# Apply IIR filter to test data (excluding time series)\n",
    "X_test_filtered = X_test.copy()\n",
    "X_test_filtered.iloc[:, 1:] = filtfilt(b, a, X_test.iloc[:, 1:], axis=0)\n",
    "\n",
    "# Standardize the test data\n",
    "X_test_scaled = scaler.transform(X_test_filtered.iloc[:, 1:])\n",
    "\n",
    "predictions = model.predict(X_test_scaled)\n",
    "if False:\n",
    "    predictions = pd.Series(predictions).rolling(window=25, min_periods=1).mean().round().astype(int)\n",
    "test_data[\"predicted_heel_button\"] = predictions"
   ]
  },
  {
   "cell_type": "code",
   "execution_count": null,
   "metadata": {},
   "outputs": [],
   "source": [
    "# Plot Angular Momentum Z axis (filtered and scaled)\n",
    "fig = go.Figure()\n",
    "# [:, 5]\n",
    "fig.add_trace(go.Scatter(x=test_data[\"Time(s)\"], y=X_test_scaled[:, 0], mode=\"lines\", name=\"AC X (Filtered & Scaled)\"))\n",
    "fig.add_trace(go.Scatter(x=test_data[\"Time(s)\"], y=X_test_scaled[:, 1], mode=\"lines\", name=\"AC Y (Filtered & Scaled)\"))\n",
    "fig.add_trace(go.Scatter(x=test_data[\"Time(s)\"], y=X_test_scaled[:, 2], mode=\"lines\", name=\"AC Z (Filtered & Scaled)\"))\n",
    "fig.add_trace(go.Scatter(x=test_data[\"Time(s)\"], y=X_test_scaled[:, 3], mode=\"lines\", name=\"AM X (Filtered & Scaled)\"))\n",
    "fig.add_trace(go.Scatter(x=test_data[\"Time(s)\"], y=X_test_scaled[:, 4], mode=\"lines\", name=\"AM Y (Filtered & Scaled)\"))\n",
    "fig.add_trace(go.Scatter(x=test_data[\"Time(s)\"], y=X_test_scaled[:, 5], mode=\"lines\", name=\"AM Z (Filtered & Scaled)\"))\n",
    "fig.add_trace(go.Scatter(x=test_data[\"Time(s)\"], y=test_data[\"Heel Button\"], mode=\"lines\", name=\"Heel Button\"))\n",
    "fig.add_trace(go.Scatter(x=test_data[\"Time(s)\"], y=test_data[\"Stand detected\"], mode=\"lines\", name=\"Analytical\"))\n",
    "fig.add_trace(go.Scatter(x=test_data[\"Time(s)\"], y=test_data[\"predicted_heel_button\"], mode=\"lines\", name=\"Predicted Heel Button\"))\n",
    "fig.show()"
   ]
  },
  {
   "cell_type": "code",
   "execution_count": null,
   "metadata": {},
   "outputs": [],
   "source": [
    "dill.dump_session('rf_env.db')"
   ]
  }
 ],
 "metadata": {
  "kernelspec": {
   "display_name": "venv",
   "language": "python",
   "name": "python3"
  },
  "language_info": {
   "codemirror_mode": {
    "name": "ipython",
    "version": 3
   },
   "file_extension": ".py",
   "mimetype": "text/x-python",
   "name": "python",
   "nbconvert_exporter": "python",
   "pygments_lexer": "ipython3",
   "version": "3.12.3"
  }
 },
 "nbformat": 4,
 "nbformat_minor": 2
}
